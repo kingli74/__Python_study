{
 "cells": [
  {
   "cell_type": "markdown",
   "id": "050cfec8-4056-4b91-9cb5-d31b0a74de9d",
   "metadata": {},
   "source": [
    "# Loop Like A Native"
   ]
  },
  {
   "cell_type": "markdown",
   "id": "ca6d16ab-945f-4ea7-b4c6-2b380efa8c13",
   "metadata": {},
   "source": [
    "## From Pycon 2013 [Loop Like A Native](http://nedbatchelder.com/text/iter.html)\n",
    "## [Slide](http://nedbatchelder.com/text/iter/iter.html#1)"
   ]
  },
  {
   "cell_type": "code",
   "execution_count": 4,
   "id": "4ad2a0c0-3e9c-494b-8161-1baf6f78e800",
   "metadata": {},
   "outputs": [
    {
     "data": {
      "image/jpeg": "[encoded data removed]",
      "text/html": [
       "\n",
       "        <iframe\n",
       "            width=\"800\"\n",
       "            height=\"600\"\n",
       "            src=\"https://www.youtube.com/embed/EnSu9hHGq5o\"\n",
       "            frameborder=\"0\"\n",
       "            allowfullscreen\n",
       "            \n",
       "        ></iframe>\n",
       "        "
      ],
      "text/plain": [
       "<IPython.lib.display.YouTubeVideo at 0x1c3beb54d50>"
      ]
     },
     "execution_count": 4,
     "metadata": {},
     "output_type": "execute_result"
    }
   ],
   "source": [
    "from IPython.display import YouTubeVideo\n",
    "\n",
    "YouTubeVideo('EnSu9hHGq5o', width=800, height=600)"
   ]
  },
  {
   "cell_type": "markdown",
   "id": "bb09c654-8750-4910-b5d4-f006748dd81e",
   "metadata": {},
   "source": [
    "## Iteration:\n",
    "萬物皆物件，萬物皆可loop (iterable)"
   ]
  },
  {
   "cell_type": "code",
   "execution_count": 9,
   "id": "65e87c5d-2e41-415d-a02b-0184519bf77c",
   "metadata": {},
   "outputs": [
    {
     "name": "stdout",
     "output_type": "stream",
     "text": [
      "0\n",
      "1\n",
      "2\n",
      "3\n",
      "4\n",
      "5\n",
      "6\n",
      "7\n",
      "8\n",
      "9\n"
     ]
    }
   ],
   "source": [
    "# Bad one: all in python are objeects & iterable\n",
    "my_list = range(10)\n",
    "i = 0\n",
    "while i < len(my_list):\n",
    "    v = my_list[i]\n",
    "    print (v)\n",
    "    i += 1"
   ]
  },
  {
   "cell_type": "code",
   "execution_count": 12,
   "id": "b343fd83-94a0-422e-9085-a5f8c69de8b8",
   "metadata": {},
   "outputs": [
    {
     "name": "stdout",
     "output_type": "stream",
     "text": [
      "0\n",
      "1\n",
      "2\n",
      "3\n",
      "4\n",
      "5\n",
      "6\n",
      "7\n",
      "8\n",
      "9\n"
     ]
    }
   ],
   "source": [
    "# better one:\n",
    "my_list = range(10)\n",
    "for i in range(len(my_list)):\n",
    "    v = my_list[i]\n",
    "    print (v)"
   ]
  },
  {
   "cell_type": "code",
   "execution_count": 13,
   "id": "22066a4b-30d3-4824-8a53-bd5c1e5edb28",
   "metadata": {},
   "outputs": [
    {
     "name": "stdout",
     "output_type": "stream",
     "text": [
      "0\n",
      "1\n",
      "2\n",
      "3\n",
      "4\n",
      "5\n",
      "6\n",
      "7\n",
      "8\n",
      "9\n"
     ]
    }
   ],
   "source": [
    "# pythonic\n",
    "for v in my_list:\n",
    "    print (v)"
   ]
  },
  {
   "cell_type": "markdown",
   "id": "61f0e8fe-26fb-49c2-9378-b82b04b0734e",
   "metadata": {},
   "source": [
    "## Lists ⇒ elements"
   ]
  },
  {
   "cell_type": "code",
   "execution_count": 14,
   "id": "dbd68360-619f-4bb4-855d-04a50e5fce0b",
   "metadata": {},
   "outputs": [
    {
     "name": "stdout",
     "output_type": "stream",
     "text": [
      "1\n",
      "2\n",
      "3\n",
      "4\n"
     ]
    }
   ],
   "source": [
    "for e in [1, 2, 3, 4]:\n",
    "    print (e)"
   ]
  },
  {
   "cell_type": "markdown",
   "id": "c974c220-3ae8-4c3e-9295-c3c6c8cb3747",
   "metadata": {},
   "source": [
    "## Strings ⇒ characters"
   ]
  },
  {
   "cell_type": "code",
   "execution_count": 15,
   "id": "1e051a1b-42fd-462c-a725-e8b1d09f7142",
   "metadata": {},
   "outputs": [
    {
     "name": "stdout",
     "output_type": "stream",
     "text": [
      "H\n",
      "e\n",
      "l\n",
      "l\n",
      "o\n"
     ]
    }
   ],
   "source": [
    "for c in \"Hello\":\n",
    "    print (c)"
   ]
  },
  {
   "cell_type": "markdown",
   "id": "d3918670-fde1-49ee-b381-96ba18478fd8",
   "metadata": {},
   "source": [
    "## Dicts ⇒ keys"
   ]
  },
  {
   "cell_type": "code",
   "execution_count": 17,
   "id": "49338070-dbd8-405f-8494-7439149a6b99",
   "metadata": {},
   "outputs": [
    {
     "name": "stdout",
     "output_type": "stream",
     "text": [
      "a\n",
      "b\n",
      "c\n"
     ]
    }
   ],
   "source": [
    "d = { 'a': 1,  'b': 2,  'c': 3 }\n",
    "# Bad --> for k in d.keys():\n",
    "for k in d:\n",
    "    print (k)\n",
    "\n",
    "# Also:\n",
    "# for v in d.itervalues():\n",
    "# for k,v in d.iteritems():"
   ]
  },
  {
   "cell_type": "markdown",
   "id": "0ca15835-4bb4-457c-8469-2631797d84d5",
   "metadata": {},
   "source": [
    "## Files ⇒ lines"
   ]
  },
  {
   "cell_type": "code",
   "execution_count": 21,
   "id": "63b3afa6-37c5-448d-8f82-1c0296d3b0a1",
   "metadata": {},
   "outputs": [
    {
     "name": "stdout",
     "output_type": "stream",
     "text": [
      "Four-score and seven years ago,\n",
      "\n",
      "our fathers brought forth on this continent\n",
      "\n",
      "a new nation,\n",
      "\n",
      "conceived in liberty,\n",
      "\n",
      "and dedicated to the proposition\n",
      "\n",
      "that all men are created equal.\n"
     ]
    }
   ],
   "source": [
    "with open(r\"gettysburg.txt\") as f:\n",
    "    for line in f:\n",
    "        print (line)"
   ]
  },
  {
   "cell_type": "markdown",
   "id": "2284b6ea-a744-4b21-8f84-62b5646fef46",
   "metadata": {},
   "source": [
    "## Stdlib has interesting iterables  "
   ]
  },
  {
   "cell_type": "markdown",
   "id": "fef38c46-543e-40ae-8670-22f303a2e2ed",
   "metadata": {},
   "source": [
    "    for match in re.finditer(pattern, string):\n",
    "        # once for each regex match...  \n",
    "  \n",
    "    for root, dirs, files in os.walk('/some/dir'):\n",
    "        # once for each sub-directory...  \n",
    "  \n",
    "    for num in itertools.count():\n",
    "        # once for each integer... Infinite!  \n",
    "  \n",
    "    from itertools import chain, repeat, cycle\n",
    "    seq = chain(repeat(17, 3), cycle(range(4)))\n",
    "    for num in seq:\n",
    "        # 17, 17, 17, 0, 1, 2, 3, 0, 1, 2, 3, 0, 1, 2, 3, ..."
   ]
  },
  {
   "cell_type": "markdown",
   "id": "4f44fbe8-85fe-472d-90e2-e82c024e3b23",
   "metadata": {},
   "source": [
    "## Other uses for iterables"
   ]
  },
  {
   "cell_type": "code",
   "execution_count": 22,
   "id": "67df2906-a52b-49c8-9732-ab1dfe2e693d",
   "metadata": {},
   "outputs": [
    {
     "data": {
      "text/plain": [
       "[0, 1, 2, 3, 4, 5, 6, 7, 8, 9]"
      ]
     },
     "execution_count": 22,
     "metadata": {},
     "output_type": "execute_result"
    }
   ],
   "source": [
    "new_list = list(range(10))\n",
    "new_list"
   ]
  },
  {
   "cell_type": "code",
   "execution_count": 27,
   "id": "ee0105b3-41f2-4c24-931d-00c2a10e056a",
   "metadata": {},
   "outputs": [
    {
     "data": {
      "text/plain": [
       "[0, 1, 4, 9, 16, 25, 36, 49, 64, 81]"
      ]
     },
     "execution_count": 27,
     "metadata": {},
     "output_type": "execute_result"
    }
   ],
   "source": [
    "f = lambda x: x**2\n",
    "results = [f(x) for x in range(10)]\n",
    "results\n"
   ]
  },
  {
   "cell_type": "code",
   "execution_count": null,
   "id": "30dc988d-99b1-47ad-a9f2-809cb979c7b0",
   "metadata": {},
   "outputs": [],
   "source": [
    "total = sum(iterable)\n",
    "smallest = min(iterable)\n",
    "largest = max(iterable)\n",
    "combined = \"\".join(iterable)"
   ]
  },
  {
   "cell_type": "code",
   "execution_count": null,
   "id": "f94e261a-7924-4f01-9831-47d98186ed7b",
   "metadata": {},
   "outputs": [],
   "source": []
  },
  {
   "cell_type": "code",
   "execution_count": null,
   "id": "05de5148-68e9-45cb-a92b-d80f295a67c6",
   "metadata": {},
   "outputs": [],
   "source": []
  }
 ],
 "metadata": {
  "kernelspec": {
   "display_name": "Python 3 (ipykernel)",
   "language": "python",
   "name": "python3"
  },
  "language_info": {
   "codemirror_mode": {
    "name": "ipython",
    "version": 3
   },
   "file_extension": ".py",
   "mimetype": "text/x-python",
   "name": "python",
   "nbconvert_exporter": "python",
   "pygments_lexer": "ipython3",
   "version": "3.11.9"
  }
 },
 "nbformat": 4,
 "nbformat_minor": 5
}
