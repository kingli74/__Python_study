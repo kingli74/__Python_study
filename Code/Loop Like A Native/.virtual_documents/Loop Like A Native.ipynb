






# 2013 Pycon
from IPython.display import YouTubeVideo
YouTubeVideo('EnSu9hHGq5o', width=800, height=600)


#2020
from IPython.display import YouTubeVideo
YouTubeVideo('TS1zy_sJSNM', width=800, height=600)





# Bad one: all in python are objeects & iterable
my_list = range(10)
i = 0
while i < len(my_list):
    v = my_list[i]
    print (v)
    i += 1


# better one:
my_list = range(10)
for i in range(len(my_list)):
    v = my_list[i]
    print (v)


# pythonic
for v in my_list:
    print (v)





for e in [1, 2, 3, 4]:
    print (e)





for c in "Hello":
    print (c)





d = { 'a': 1,  'b': 2,  'c': 3 }
# Bad --> for k in d.keys():
for k in d:
    print (k)

# Also:
# for v in d.itervalues():
# for k,v in d.iteritems():





with open(r"gettysburg.txt") as f:
    for line in f:
        print (line)











new_list = list(range(10))
new_list


f = lambda x: x**2
results = [f(x) for x in range(10)]
results



total = sum(range(10))
total


smallest = min(range(10))
largest = max(range(10))
smallest, largest


combined = "_".join("ABCDEFGHIJKL")
combined















